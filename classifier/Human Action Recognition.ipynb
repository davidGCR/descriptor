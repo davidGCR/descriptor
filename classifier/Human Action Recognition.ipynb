{
 "cells": [
  {
   "cell_type": "code",
   "execution_count": 1,
   "metadata": {},
   "outputs": [],
   "source": [
    "import cv2\n",
    "import numpy as np\n",
    "import os\n",
    "import pickle\n",
    "import matplotlib.pyplot as plt\n",
    "import pandas as pd\n",
    "\n",
    "# CATEGORIES = [\"boxing\", \"handclapping\", \"handwaving\", \"jogging\", \"running\", \n",
    "#     \"walking\"]\n"
   ]
  },
  {
   "cell_type": "code",
   "execution_count": null,
   "metadata": {},
   "outputs": [],
   "source": [
    "df = pd.read_csv(\"../data_generated/list_boxing_person01_s1.csv\")\n",
    "df.shape\n",
    "df.iloc[0,0:384]"
   ]
  },
  {
   "cell_type": "code",
   "execution_count": 2,
   "metadata": {},
   "outputs": [],
   "source": [
    "#TRAIN_PEOPLE_ID = [11, 12, 13, 14, 15, 16, 17, 18]\n",
    "#DEV_PEOPLE_ID = [19, 20, 21, 23, 24, 25, 1, 4]\n",
    "#TEST_PEOPLE_ID = [22, 2, 3, 5, 6, 7, 8, 9, 10]\n",
    "TRAIN_PEOPLE_ID = [1, 2, 3, 4]\n",
    "TEST_PEOPLE_ID = [5]"
   ]
  },
  {
   "cell_type": "code",
   "execution_count": null,
   "metadata": {
    "scrolled": true
   },
   "outputs": [
    {
     "name": "stdout",
     "output_type": "stream",
     "text": [
      "Nº files: 121\n",
      "processing video_csv:  0  file: ../data_generated/list_walking_person05_s3.csv\n",
      "processing video_csv:  47  file: ../data_generated/list_handclapping_person03_s2.csv\n",
      "processing video_csv:  47  file: ../data_generated/list_running_person01_s4.csv\n",
      "processing video_csv:  47  file: ../data_generated/list_jogging_person04_s3.csv\n",
      "processing video_csv:  47  file: ../data_generated/list_jogging_person01_s4.csv\n",
      "processing video_csv:  47  file: ../data_generated/list_handwaving_person03_s4.csv\n",
      "processing video_csv:  47  file: ../data_generated/list_boxing_person04_s2.csv\n",
      "processing video_csv:  47  file: ../data_generated/list_running_person04_s2.csv\n",
      "processing video_csv:  47  file: ../data_generated/list_running_person02_s4.csv\n",
      "processing video_csv:  47  file: ../data_generated/list_walking_person01_s2.csv\n",
      "processing video_csv:  47  file: ../data_generated/list_boxing_person03_s2.csv\n",
      "processing video_csv:  47  file: ../data_generated/list_boxing_person02_s2.csv\n",
      "processing video_csv:  47  file: ../data_generated/list_running_person01_s1.csv\n",
      "processing video_csv:  47  file: ../data_generated/list_handclapping_person03_s1.csv\n",
      "processing video_csv:  47  file: ../data_generated/list_handclapping_person03_s3.csv\n",
      "processing video_csv:  47  file: ../data_generated/list_walking_person04_s3.csv\n",
      "processing video_csv:  47  file: ../data_generated/list_jogging_person04_s1.csv\n",
      "processing video_csv:  47  file: ../data_generated/list_walking_person02_s2.csv\n",
      "processing video_csv:  47  file: ../data_generated/list_running_person01_s3.csv\n",
      "processing video_csv:  47  file: ../data_generated/list_handwaving_person03_s3.csv\n",
      "processing video_csv:  47  file: ../data_generated/list_jogging_person05_s1.csv\n",
      "processing video_csv:  47  file: ../data_generated/list_handclapping_person01_s2.csv\n",
      "processing video_csv:  47  file: ../data_generated/list_jogging_person02_s2.csv\n",
      "processing video_csv:  47  file: ../data_generated/list_handwaving_person04_s2.csv\n",
      "processing video_csv:  47  file: ../data_generated/list_jogging_person05_s3.csv\n",
      "processing video_csv:  47  file: ../data_generated/list_boxing_person03_s3.csv\n",
      "processing video_csv:  47  file: ../data_generated/list_walking_person03_s4.csv\n",
      "processing video_csv:  47  file: ../data_generated/list_walking_person05_s4.csv\n",
      "processing video_csv:  47  file: ../data_generated/list_handclapping_person01_s4.csv\n",
      "processing video_csv:  47  file: ../data_generated/list_handclapping_person02_s2.csv\n",
      "processing video_csv:  47  file: ../data_generated/list_boxing_person05_s2.csv\n",
      "processing video_csv:  47  file: ../data_generated/list_boxing_person02_s4.csv\n",
      "processing video_csv:  47  file: ../data_generated/list_walking_person02_s4.csv\n",
      "processing video_csv:  47  file: ../data_generated/list_handwaving_person03_s1.csv\n",
      "processing video_csv:  47  file: ../data_generated/list_jogging_person03_s3.csv\n",
      "processing video_csv:  47  file: ../data_generated/list_walking_person01_s3.csv\n",
      "processing video_csv:  47  file: ../data_generated/list_walking_person04_s4.csv\n",
      "processing video_csv:  47  file: ../data_generated/list_running_person03_s1.csv\n",
      "processing video_csv:  47  file: ../data_generated/list_walking_person05_s1.csv\n",
      "processing video_csv:  47  file: ../data_generated/list_running_person05_s4.csv\n",
      "processing video_csv:  47  file: ../data_generated/list_running_person03_s2.csv\n",
      "processing video_csv:  47  file: ../data_generated/list_running_person05_s2.csv\n",
      "processing video_csv:  47  file: ../data_generated/list_handwaving_person01_s2.csv\n",
      "processing video_csv:  47  file: ../data_generated/list_handwaving_person01_s1.csv\n",
      "processing video_csv:  47  file: ../data_generated/list_boxing_person03_s1.csv\n",
      "processing video_csv:  47  file: ../data_generated/list_jogging_person02_s4.csv\n",
      "processing video_csv:  47  file: ../data_generated/list_running_person05_s3.csv\n",
      "processing video_csv:  47  file: ../data_generated/list_walking_person04_s2.csv\n",
      "processing video_csv:  47  file: ../data_generated/list_handclapping_person05_s4.csv\n",
      "processing video_csv:  47  file: ../data_generated/list_running_person04_s4.csv\n",
      "processing video_csv:  47  file: ../data_generated/list_handwaving_person05_s2.csv\n",
      "processing video_csv:  47  file: ../data_generated/list_jogging_person03_s1.csv\n",
      "processing video_csv:  47  file: ../data_generated/list_handwaving_person02_s3.csv\n"
     ]
    }
   ],
   "source": [
    "data_gen_path = \"../data_generated\"\n",
    "#os.listdir(data_gen_path)\n",
    "no_cuboids = 48\n",
    "feature_lenght = 192\n",
    "feature_lenght_all = 250\n",
    "\n",
    "def concatenate_features(path, flac_all=True):\n",
    "    files = os.listdir(path)\n",
    "    angles = []\n",
    "    magnitudes = []\n",
    "    all_f = []\n",
    "    \n",
    "    train = []\n",
    "    test = []\n",
    "    print('Nº files:', len(files))\n",
    "    \n",
    "    i=0\n",
    "    for file in files:\n",
    "        person_id = int(file.split(\"_\")[2][7:])\n",
    "#        print(person_id)\n",
    "        features = []\n",
    "        pt = os.path.join(data_gen_path,file)\n",
    "        print('processing video_csv: ',i,\" file:\",pt)\n",
    "        \n",
    "        i=i+1\n",
    "        \n",
    "        df = pd.read_csv(pt)\n",
    "        for i in range(no_cuboids): #for each row\n",
    "            if flac_all:\n",
    "                angles_magnitudes = list(df.iloc[i,0:feature_lenght_all])\n",
    "                all_f.append(angles_magnitudes)\n",
    "                features.append(np.array(all_f))\n",
    "#             else: \n",
    "#                 f_angles = list(df.iloc[i,0:feature_lenght])#first 192 columns\n",
    "#                 f_magnitudes = list(df.iloc[i,feature_lenght:2*feature_lenght])  #last 192 columns\n",
    "#                 angles.append(f_angles)\n",
    "#                 magnitudes.append(f_magnitudes)\n",
    "#                 features.append(np.array(f_magnitudes))\n",
    "        \n",
    "        if person_id in TRAIN_PEOPLE_ID:\n",
    "            train.append({\n",
    "                \"video\": file,\n",
    "                \"category\": df.activity[0], \n",
    "                \"features\": features\n",
    "            })\n",
    "        else: test.append({\n",
    "                \"video\": file,\n",
    "                \"category\": df.activity[0], \n",
    "                \"features\": features\n",
    "            })\n",
    "        \n",
    "        \n",
    "    \n",
    "#     print('feature len:', len(angles))\n",
    "    print('train len:', len(train))\n",
    "    print('test len:', len(test))\n",
    "    return train, test, angles, magnitudes\n",
    "\n",
    "train, test ,angles,magnitudes = concatenate_features(data_gen_path)\n",
    "pickle.dump(train, open(\"../pickle/train.p\", \"wb\"))\n",
    "pickle.dump(test, open(\"../pickle/test.p\", \"wb\"))\n"
   ]
  },
  {
   "cell_type": "code",
   "execution_count": null,
   "metadata": {},
   "outputs": [],
   "source": [
    "train[0][\"features\"]"
   ]
  },
  {
   "cell_type": "code",
   "execution_count": null,
   "metadata": {
    "scrolled": true
   },
   "outputs": [],
   "source": [
    "clusters = 100\n",
    "\n",
    "from sklearn.cluster import KMeans\n",
    "from numpy import size\n",
    "\n",
    "# Clustering with KMeans.\n",
    "print(\"Running KMeans clustering\")\n",
    "kmeans = KMeans(init='k-means++', n_clusters=clusters, n_init=10, n_jobs=2,\n",
    "    verbose=1)\n",
    "kmeans.fit(angles)\n",
    "# Save trained kmeans object to file.\n",
    "pickle.dump(kmeans, open(\"../pickle/cb_%dclusters.p\" % clusters, \"wb\"))"
   ]
  },
  {
   "cell_type": "markdown",
   "metadata": {},
   "source": [
    "## Building Bag of Words"
   ]
  },
  {
   "cell_type": "code",
   "execution_count": null,
   "metadata": {},
   "outputs": [],
   "source": [
    "from scipy.cluster.vq import vq\n",
    "\n",
    "def make_bow(dataset, clusters):\n",
    "    n_videos = len(dataset)\n",
    "    bow = np.zeros((n_videos, clusters.shape[0]), dtype=np.float)\n",
    "    # Make bow vectors for all videos.\n",
    "    video_index = 0\n",
    "    for video in dataset:\n",
    "        visual_word_ids = vq(video[\"features\"], clusters)[0]\n",
    "        #print(len(visual_word_ids))\n",
    "        for word_id in visual_word_ids:\n",
    "            bow[video_index, word_id] += 1\n",
    "        video_index += 1\n",
    "        \n",
    "    # Check whether to use TF-IDF weighting.\n",
    "    tfidf = False\n",
    "    if tfidf:\n",
    "        print(\"Applying TF-IDF weighting\")\n",
    "        freq = np.sum((bow > 0) * 1, axis = 0)\n",
    "        idf = np.log((n_videos + 1) / (freq + 1))\n",
    "        bow = bow * idf\n",
    "\n",
    "    # Replace features in dataset with the bow vector we've computed.\n",
    "    video_index = 0\n",
    "    for i in range(len(dataset)): #for each video\n",
    "        dataset[i][\"features\"] = bow[video_index]\n",
    "        video_index += 1\n",
    "\n",
    "        #if (i + 1) % 50 == 0:\n",
    "        #    print(\"Processed %d/%d videos\" % (i + 1, len(dataset)))\n",
    "    print(\"reeplaced features by bow...\")\n",
    "    return dataset\n",
    "\n",
    "\n",
    "dataset_train  = \"../pickle/train.p\"\n",
    "dataset_test  = \"../pickle/test.p\"\n",
    "codebook_file = \"../pickle/cb_100clusters.p\"\n",
    "# Load clusters.\n",
    "codebook = pickle.load(open(codebook_file, \"rb\"))\n",
    "clusters = codebook.cluster_centers_\n",
    "\n",
    "# Load dataset.\n",
    "dataset_train = pickle.load(open(dataset_train, \"rb\"))\n",
    "dataset_test = pickle.load(open(dataset_test, \"rb\"))\n",
    "\n",
    "train_bow = make_bow(dataset_train, clusters)\n",
    "test_bow = make_bow(dataset_test, clusters)\n",
    "#len(test_bow), train_bow"
   ]
  },
  {
   "cell_type": "code",
   "execution_count": null,
   "metadata": {},
   "outputs": [],
   "source": [
    "clusters[0].shape, len(dataset_train[0][\"features\"])"
   ]
  },
  {
   "cell_type": "code",
   "execution_count": null,
   "metadata": {},
   "outputs": [],
   "source": [
    "dataset_train[0][\"features\"].shape"
   ]
  },
  {
   "cell_type": "markdown",
   "metadata": {},
   "source": [
    "## Train"
   ]
  },
  {
   "cell_type": "code",
   "execution_count": null,
   "metadata": {},
   "outputs": [],
   "source": [
    "from sklearn.svm import SVC\n",
    "\n",
    "def make_dataset(dataset):\n",
    "    X = []\n",
    "    Y = []\n",
    "\n",
    "    for video in dataset:\n",
    "        X.append(video[\"features\"])\n",
    "        Y.append(video[\"category\"])\n",
    "    return X,Y\n",
    "        \n",
    "X_train, Y_train = make_dataset(dataset_train)\n",
    "X_test, Y_test = make_dataset(dataset_test)"
   ]
  },
  {
   "cell_type": "code",
   "execution_count": null,
   "metadata": {},
   "outputs": [],
   "source": [
    "X_test"
   ]
  },
  {
   "cell_type": "code",
   "execution_count": null,
   "metadata": {},
   "outputs": [],
   "source": [
    "# Train SVM and save to file.\n",
    "clf = SVC(C=1, kernel=\"linear\", verbose=True)\n",
    "clf.fit(X_train, Y_train)"
   ]
  },
  {
   "cell_type": "markdown",
   "metadata": {},
   "source": [
    "## Prediction"
   ]
  },
  {
   "cell_type": "code",
   "execution_count": null,
   "metadata": {
    "scrolled": true
   },
   "outputs": [],
   "source": [
    "correct = 0\n",
    "for video in dataset_train:    \n",
    "    #video = dataset[0]\n",
    "    predicted = clf.predict([video[\"features\"]])\n",
    "    print(predicted)\n",
    "    # Check if majority is correct.\n",
    "    if predicted == video[\"category\"]:\n",
    "        correct += 1\n",
    "print(\"%d/%d Correct\" % (correct, len(dataset_train)))\n",
    "print(\"Accuracy =\", correct / len(dataset_train))"
   ]
  },
  {
   "cell_type": "code",
   "execution_count": null,
   "metadata": {
    "scrolled": true
   },
   "outputs": [],
   "source": [
    "Y_test"
   ]
  },
  {
   "cell_type": "code",
   "execution_count": null,
   "metadata": {},
   "outputs": [],
   "source": [
    "Y"
   ]
  },
  {
   "cell_type": "markdown",
   "metadata": {},
   "source": [
    "## train"
   ]
  },
  {
   "cell_type": "code",
   "execution_count": null,
   "metadata": {},
   "outputs": [],
   "source": [
    "from sklearn.svm import SVC\n",
    "\n",
    "def make_dataset(dataset):\n",
    "    X = []\n",
    "    Y = []\n",
    "\n",
    "    for video in dataset:\n",
    "        X.append(video[\"features\"])\n",
    "        Y.append(video[\"category\"])\n",
    "    return X,Y\n",
    "        \n",
    "X, Y = make_dataset(dataset)\n"
   ]
  },
  {
   "cell_type": "code",
   "execution_count": null,
   "metadata": {},
   "outputs": [],
   "source": [
    "X"
   ]
  },
  {
   "cell_type": "code",
   "execution_count": null,
   "metadata": {},
   "outputs": [],
   "source": [
    "# Train SVM and save to file.\n",
    "clf = SVC(C=1, kernel=\"linear\", verbose=True)\n",
    "clf.fit(X, Y)"
   ]
  },
  {
   "cell_type": "code",
   "execution_count": null,
   "metadata": {},
   "outputs": [],
   "source": [
    "X_test = dataset[1]['features']\n",
    "Y_test = dataset[1]['category']"
   ]
  },
  {
   "cell_type": "code",
   "execution_count": null,
   "metadata": {},
   "outputs": [],
   "source": [
    "X_test = X\n",
    "Y_test = Y"
   ]
  },
  {
   "cell_type": "code",
   "execution_count": null,
   "metadata": {},
   "outputs": [],
   "source": [
    "Y_pred = clf.predict(X)"
   ]
  },
  {
   "cell_type": "code",
   "execution_count": null,
   "metadata": {},
   "outputs": [],
   "source": [
    "from sklearn.metrics import accuracy_score\n",
    "accuracy_score(Y_pred, Y_test)"
   ]
  }
 ],
 "metadata": {
  "kernelspec": {
   "display_name": "Python 3",
   "language": "python",
   "name": "python3"
  },
  "language_info": {
   "codemirror_mode": {
    "name": "ipython",
    "version": 3
   },
   "file_extension": ".py",
   "mimetype": "text/x-python",
   "name": "python",
   "nbconvert_exporter": "python",
   "pygments_lexer": "ipython3",
   "version": "3.6.7"
  }
 },
 "nbformat": 4,
 "nbformat_minor": 2
}
