{
 "cells": [
  {
   "cell_type": "code",
   "execution_count": 2,
   "metadata": {},
   "outputs": [
    {
     "name": "stderr",
     "output_type": "stream",
     "text": [
      "/usr/lib/python3.5/importlib/_bootstrap.py:222: RuntimeWarning: numpy.dtype size changed, may indicate binary incompatibility. Expected 96, got 88\n",
      "  return f(*args, **kwds)\n",
      "/usr/lib/python3.5/importlib/_bootstrap.py:222: RuntimeWarning: numpy.dtype size changed, may indicate binary incompatibility. Expected 96, got 88\n",
      "  return f(*args, **kwds)\n",
      "/usr/lib/python3.5/importlib/_bootstrap.py:222: RuntimeWarning: numpy.dtype size changed, may indicate binary incompatibility. Expected 96, got 88\n",
      "  return f(*args, **kwds)\n",
      "/usr/lib/python3.5/importlib/_bootstrap.py:222: RuntimeWarning: numpy.dtype size changed, may indicate binary incompatibility. Expected 96, got 88\n",
      "  return f(*args, **kwds)\n",
      "/usr/lib/python3.5/importlib/_bootstrap.py:222: RuntimeWarning: numpy.dtype size changed, may indicate binary incompatibility. Expected 96, got 88\n",
      "  return f(*args, **kwds)\n",
      "/usr/lib/python3.5/importlib/_bootstrap.py:222: RuntimeWarning: numpy.dtype size changed, may indicate binary incompatibility. Expected 96, got 88\n",
      "  return f(*args, **kwds)\n"
     ]
    }
   ],
   "source": [
    "import pandas as pd\n",
    "import numpy as np\n",
    "import matplotlib.pyplot as plt\n",
    "from sklearn.svm import SVC\n",
    "from matplotlib.colors import ListedColormap"
   ]
  },
  {
   "cell_type": "code",
   "execution_count": 61,
   "metadata": {},
   "outputs": [],
   "source": [
    "#load data to train\n",
    "data_running = pd.read_csv('list_running_angles.csv')\n",
    "data_handclapping = pd.read_csv('list_handclapping_angles.csv')\n",
    "data_handwaving = pd.read_csv('list_handwaving_angles.csv')\n",
    "data_jogging = pd.read_csv('list_jogging_angles.csv')\n",
    "data_walking = pd.read_csv('list_walking_angles.csv')\n",
    "data_boxing = pd.read_csv('list_boxing_15_angles.csv')"
   ]
  },
  {
   "cell_type": "code",
   "execution_count": 62,
   "metadata": {},
   "outputs": [],
   "source": [
    "X_train_running = data_running.iloc[:,[0,1]]\n",
    "X_train_handclapping = data_handclapping.iloc[:,[0,1]]\n",
    "X_train_handwaving = data_handclapping.iloc[:,[0,1]]\n",
    "X_train_jogging = data_jogging.iloc[:,[0,1]]\n",
    "X_train_walking = data_walking.iloc[:,[0,1]]\n",
    "X_train_boxing = data_boxing.iloc[:,[0,1]]\n",
    "\n",
    "Y_train_running = data_running.iloc[:,2]\n",
    "Y_train_handclapping = data_handclapping.iloc[:,2]\n",
    "Y_train_handwaving = data_handclapping.iloc[:,2]\n",
    "Y_train_jogging = data_jogging.iloc[:,2]\n",
    "Y_train_walking = data_walking.iloc[:,2]\n",
    "Y_train_boxing = data_boxing.iloc[:,2]"
   ]
  },
  {
   "cell_type": "code",
   "execution_count": 63,
   "metadata": {},
   "outputs": [],
   "source": [
    "X_train = np.concatenate((X_train_running, X_train_handclapping, X_train_handwaving, X_train_jogging, X_train_walking, X_train_boxing), axis=0)\n",
    "Y_train = np.concatenate((Y_train_running, Y_train_handclapping, Y_train_handwaving, Y_train_jogging, Y_train_walking, Y_train_boxing), axis=0)\n",
    "#X_train = np.concatenate((X_train_running, X_train_boxing), axis=0)\n",
    "#Y_train = np.concatenate((Y_train_running, Y_train_boxing), axis=0)"
   ]
  },
  {
   "cell_type": "code",
   "execution_count": 24,
   "metadata": {},
   "outputs": [],
   "source": [
    "for j in range(4): #Variable person\n",
    "    for i in range(4):#Fixed escenario\n",
    "        if i == 0 and j == 0:\n",
    "            X_jogging = pd.read_csv('data_generated/list_jogging_person0'+str(j+1)+'_s'+str(i+1)+'.csv')\n",
    "        else:\n",
    "            X_jogging = np.concatenate((X_jogging, pd.read_csv('data_generated/list_jogging_person0'+str(j+1)+'_s'+str(i+1)+'.csv')), axis=0)\n",
    "        "
   ]
  },
  {
   "cell_type": "code",
   "execution_count": 25,
   "metadata": {},
   "outputs": [],
   "source": [
    "for j in range(4): #Variable person\n",
    "    for i in range(4):#Fixed escenario\n",
    "        if i == 0 and j == 0:\n",
    "            X_running = pd.read_csv('data_generated/list_running_person0'+str(j+1)+'_s'+str(i+1)+'.csv')\n",
    "        else:\n",
    "            X_running = np.concatenate((X_running, pd.read_csv('data_generated/list_running_person0'+str(j+1)+'_s'+str(i+1)+'.csv')), axis=0)\n",
    "        "
   ]
  },
  {
   "cell_type": "code",
   "execution_count": 26,
   "metadata": {},
   "outputs": [],
   "source": [
    "for j in range(4): #Variable person\n",
    "    for i in range(4):#Fixed escenario\n",
    "        if i == 0 and j == 0:\n",
    "            X_boxing = pd.read_csv('data_generated/list_boxing_person0'+str(j+1)+'_s'+str(i+1)+'.csv')\n",
    "        else:\n",
    "            X_boxing = np.concatenate((X_running, pd.read_csv('data_generated/list_boxing_person0'+str(j+1)+'_s'+str(i+1)+'.csv')), axis=0)\n",
    "        "
   ]
  },
  {
   "cell_type": "code",
   "execution_count": 27,
   "metadata": {},
   "outputs": [],
   "source": [
    "for j in range(4): #Variable person\n",
    "    for i in range(4):#Fixed escenario\n",
    "        if i == 0 and j == 0:\n",
    "            X_walking = pd.read_csv('data_generated/list_walking_person0'+str(j+1)+'_s'+str(i+1)+'.csv')\n",
    "        else:\n",
    "            X_walking = np.concatenate((X_walking, pd.read_csv('data_generated/list_walking_person0'+str(j+1)+'_s'+str(i+1)+'.csv')), axis=0)\n",
    "        "
   ]
  },
  {
   "cell_type": "code",
   "execution_count": 28,
   "metadata": {},
   "outputs": [],
   "source": [
    "for j in range(4): #Variable person\n",
    "    for i in range(4):#Fixed escenario\n",
    "        if i == 0 and j == 0:\n",
    "            X_handclapping = pd.read_csv('data_generated/list_handclapping_person0'+str(j+1)+'_s'+str(i+1)+'.csv')\n",
    "        else:\n",
    "            X_handclapping = np.concatenate((X_handclapping, pd.read_csv('data_generated/list_handclapping_person0'+str(j+1)+'_s'+str(i+1)+'.csv')), axis=0)\n",
    "        "
   ]
  },
  {
   "cell_type": "code",
   "execution_count": 29,
   "metadata": {},
   "outputs": [],
   "source": [
    "for j in range(4): #Variable person\n",
    "    for i in range(4):#Fixed escenario\n",
    "        if i == 0 and j == 0:\n",
    "            X_handwaving = pd.read_csv('data_generated/list_handwaving_person0'+str(j+1)+'_s'+str(i+1)+'.csv')\n",
    "        else:\n",
    "            X_handwaving = np.concatenate((X_handclapping, pd.read_csv('data_generated/list_handwaving_person0'+str(j+1)+'_s'+str(i+1)+'.csv')), axis=0)\n",
    "        "
   ]
  },
  {
   "cell_type": "code",
   "execution_count": 9,
   "metadata": {},
   "outputs": [
    {
     "data": {
      "text/plain": [
       "(9216, 3)"
      ]
     },
     "execution_count": 9,
     "metadata": {},
     "output_type": "execute_result"
    }
   ],
   "source": [
    "X_running = pd.read_csv('data_generated/list_jogging_person01_s1.csv')\n",
    "X_running.shape"
   ]
  },
  {
   "cell_type": "code",
   "execution_count": 23,
   "metadata": {},
   "outputs": [
    {
     "data": {
      "text/plain": [
       "(147456, 3)"
      ]
     },
     "execution_count": 23,
     "metadata": {},
     "output_type": "execute_result"
    }
   ],
   "source": [
    "X_running.shape"
   ]
  },
  {
   "cell_type": "code",
   "execution_count": 81,
   "metadata": {},
   "outputs": [
    {
     "ename": "AttributeError",
     "evalue": "'numpy.ndarray' object has no attribute 'iloc'",
     "output_type": "error",
     "traceback": [
      "\u001b[0;31m---------------------------------------------------------------------------\u001b[0m",
      "\u001b[0;31mAttributeError\u001b[0m                            Traceback (most recent call last)",
      "\u001b[0;32m<ipython-input-81-9a52f92173cb>\u001b[0m in \u001b[0;36m<module>\u001b[0;34m\u001b[0m\n\u001b[0;32m----> 1\u001b[0;31m \u001b[0mX_train_running\u001b[0m\u001b[0;34m.\u001b[0m\u001b[0miloc\u001b[0m\u001b[0;34m[\u001b[0m\u001b[0;34m:\u001b[0m\u001b[0;34m,\u001b[0m\u001b[0;36m0\u001b[0m\u001b[0;34m]\u001b[0m\u001b[0;34m\u001b[0m\u001b[0m\n\u001b[0m",
      "\u001b[0;31mAttributeError\u001b[0m: 'numpy.ndarray' object has no attribute 'iloc'"
     ]
    }
   ],
   "source": [
    "X_train_running.iloc[:,0]"
   ]
  },
  {
   "cell_type": "code",
   "execution_count": 305,
   "metadata": {},
   "outputs": [
    {
     "data": {
      "text/plain": [
       "array([0, 0, 0, ..., 5, 5, 5])"
      ]
     },
     "execution_count": 305,
     "metadata": {},
     "output_type": "execute_result"
    }
   ],
   "source": [
    "Y_train"
   ]
  },
  {
   "cell_type": "markdown",
   "metadata": {},
   "source": [
    "### SVM classifier"
   ]
  },
  {
   "cell_type": "code",
   "execution_count": 64,
   "metadata": {},
   "outputs": [],
   "source": [
    "#Definiento un Kernel rbf\n",
    "#svmClassifier = SVC(kernel='rbf', C = 100, gamma = 0.001)\n",
    "svmClassifier = SVC(kernel='rbf', gamma = 0.01)"
   ]
  },
  {
   "cell_type": "code",
   "execution_count": 65,
   "metadata": {},
   "outputs": [
    {
     "data": {
      "text/plain": [
       "SVC(C=1.0, cache_size=200, class_weight=None, coef0=0.0,\n",
       "  decision_function_shape='ovr', degree=3, gamma=0.01, kernel='rbf',\n",
       "  max_iter=-1, probability=False, random_state=None, shrinking=True,\n",
       "  tol=0.001, verbose=False)"
      ]
     },
     "execution_count": 65,
     "metadata": {},
     "output_type": "execute_result"
    }
   ],
   "source": [
    "svmClassifier.fit(X_train, Y_train)"
   ]
  },
  {
   "cell_type": "markdown",
   "metadata": {},
   "source": [
    "### Predict data"
   ]
  },
  {
   "cell_type": "code",
   "execution_count": 66,
   "metadata": {},
   "outputs": [],
   "source": [
    "#load data\n",
    "data_running_23 = pd.read_csv('list_test_boxing_angles.csv')\n",
    "X_test_running = data_running_23.iloc[:,[0,1]]\n",
    "Y_test_running = data_running_23.iloc[:,2]"
   ]
  },
  {
   "cell_type": "code",
   "execution_count": 308,
   "metadata": {},
   "outputs": [],
   "source": [
    "Y_test_running = Y_test_running"
   ]
  },
  {
   "cell_type": "code",
   "execution_count": 67,
   "metadata": {},
   "outputs": [],
   "source": [
    "Y_pred = svmClassifier.predict(X_test_running)"
   ]
  },
  {
   "cell_type": "code",
   "execution_count": 68,
   "metadata": {},
   "outputs": [
    {
     "data": {
      "text/plain": [
       "0.00021748586341887777"
      ]
     },
     "execution_count": 68,
     "metadata": {},
     "output_type": "execute_result"
    }
   ],
   "source": [
    "from sklearn.metrics import accuracy_score\n",
    "accuracy_score(Y_pred, Y_test_running)"
   ]
  },
  {
   "cell_type": "code",
   "execution_count": 69,
   "metadata": {},
   "outputs": [
    {
     "data": {
      "text/plain": [
       "array([1, 1, 1, ..., 1, 1, 1])"
      ]
     },
     "execution_count": 69,
     "metadata": {},
     "output_type": "execute_result"
    }
   ],
   "source": [
    "Y_pred"
   ]
  },
  {
   "cell_type": "markdown",
   "metadata": {},
   "source": [
    "#### Predict Boxing"
   ]
  },
  {
   "cell_type": "code",
   "execution_count": 41,
   "metadata": {},
   "outputs": [
    {
     "data": {
      "text/plain": [
       "(48, 384)"
      ]
     },
     "execution_count": 41,
     "metadata": {},
     "output_type": "execute_result"
    }
   ],
   "source": [
    "#load data\n",
    "data_boxing_23 = pd.read_csv('data_generated/list_running_person01_s1.csv')\n",
    "data_boxing_23.shape\n",
    "#X_test_boxing = data_boxing_23.iloc[:,[0,]]\n",
    "#Y_test_boxing = data_boxing_23.iloc[:,2]"
   ]
  },
  {
   "cell_type": "code",
   "execution_count": 35,
   "metadata": {},
   "outputs": [
    {
     "data": {
      "text/plain": [
       "(48, 3)"
      ]
     },
     "execution_count": 35,
     "metadata": {},
     "output_type": "execute_result"
    }
   ],
   "source": [
    "X_test_boxing.shape"
   ]
  },
  {
   "cell_type": "code",
   "execution_count": 294,
   "metadata": {},
   "outputs": [],
   "source": [
    "Y_pred_boxing = svmClassifier.predict(X_test_boxing)"
   ]
  },
  {
   "cell_type": "code",
   "execution_count": 295,
   "metadata": {},
   "outputs": [
    {
     "data": {
      "text/plain": [
       "0.04806828391734052"
      ]
     },
     "execution_count": 295,
     "metadata": {},
     "output_type": "execute_result"
    }
   ],
   "source": [
    "from sklearn.metrics import accuracy_score\n",
    "accuracy_score(Y_pred_boxing, Y_test_boxing)"
   ]
  },
  {
   "cell_type": "code",
   "execution_count": 296,
   "metadata": {},
   "outputs": [
    {
     "data": {
      "text/plain": [
       "array([1, 1, 1, ..., 1, 1, 1])"
      ]
     },
     "execution_count": 296,
     "metadata": {},
     "output_type": "execute_result"
    }
   ],
   "source": [
    "Y_pred_boxing"
   ]
  },
  {
   "cell_type": "markdown",
   "metadata": {},
   "source": [
    "### Visualize data"
   ]
  },
  {
   "cell_type": "code",
   "execution_count": 297,
   "metadata": {},
   "outputs": [
    {
     "ename": "MemoryError",
     "evalue": "",
     "output_type": "error",
     "traceback": [
      "\u001b[0;31m---------------------------------------------------------------------------\u001b[0m",
      "\u001b[0;31mMemoryError\u001b[0m                               Traceback (most recent call last)",
      "\u001b[0;32m<ipython-input-297-8729732769b9>\u001b[0m in \u001b[0;36m<module>\u001b[0;34m\u001b[0m\n\u001b[1;32m      1\u001b[0m \u001b[0mX_set\u001b[0m\u001b[0;34m,\u001b[0m \u001b[0mY_set\u001b[0m \u001b[0;34m=\u001b[0m \u001b[0mX_train\u001b[0m\u001b[0;34m,\u001b[0m \u001b[0mY_train\u001b[0m\u001b[0;34m\u001b[0m\u001b[0m\n\u001b[0;32m----> 2\u001b[0;31m _x1, _x2 = np.meshgrid(np.arange(start=X_set[:,0].min()-1, stop = X_set[:,0].max()+1, step = 0.01),\n\u001b[0m\u001b[1;32m      3\u001b[0m                     np.arange(start=X_set[:,1].min()-1, stop = X_set[:,1].max()+1, step = 0.01))\n\u001b[1;32m      4\u001b[0m plt.contourf(_x1,_x2, svmClassifier.predict(np.array([_x1.ravel(), _x2.ravel()]).T).reshape(_x1.shape),\n\u001b[1;32m      5\u001b[0m             alpha=0.75, cmap = ListedColormap(('orange', 'green')))\n",
      "\u001b[0;31mMemoryError\u001b[0m: "
     ]
    }
   ],
   "source": [
    "X_set, Y_set = X_train, Y_train\n",
    "_x1, _x2 = np.meshgrid(np.arange(start=X_set[:,0].min()-1, stop = X_set[:,0].max()+1, step = 0.01),\n",
    "                    np.arange(start=X_set[:,1].min()-1, stop = X_set[:,1].max()+1, step = 0.01))\n",
    "plt.contourf(_x1,_x2, svmClassifier.predict(np.array([_x1.ravel(), _x2.ravel()]).T).reshape(_x1.shape),\n",
    "            alpha=0.75, cmap = ListedColormap(('orange', 'green')))\n",
    "plt.xlim(_x1.min(), _x1.max())\n",
    "plt.ylim(_x2.min(), _x2.max())\n",
    "\n",
    "for i, j in enumerate(np.unique(Y_set)):\n",
    "    plt.scatter(X_set[Y_set == j, 0], X_set[Y_set == j, 1],\n",
    "               c = ListedColormap(('red', 'blue'))(i), label=j)\n",
    "    \n",
    "plt.title('Super Vector Machine')\n",
    "plt.xlabel('Age')\n",
    "plt.ylabel('Estimated Salary')\n",
    "plt.legend()\n",
    "plt.show()"
   ]
  },
  {
   "cell_type": "code",
   "execution_count": 11,
   "metadata": {},
   "outputs": [
    {
     "data": {
      "text/plain": [
       "<matplotlib.collections.PathCollection at 0x7ff92053ada0>"
      ]
     },
     "execution_count": 11,
     "metadata": {},
     "output_type": "execute_result"
    },
    {
     "data": {
      "image/png": "[encoded data removed]",
      "text/plain": [
       "<Figure size 432x288 with 1 Axes>"
      ]
     },
     "metadata": {
      "needs_background": "light"
     },
     "output_type": "display_data"
    }
   ],
   "source": [
    "#X_set, Y_set = X_train, Y_train\n",
    "X_set, Y_set = X_train_running.iloc[:,0], X_train_running.iloc[:,1]\n",
    "plt.scatter(X_set, Y_set)"
   ]
  },
  {
   "cell_type": "code",
   "execution_count": 19,
   "metadata": {},
   "outputs": [],
   "source": [
    "X_train_running_v = data_running.iloc[:,0]\n",
    "X_train_handclapping_v = data_handclapping.iloc[:,0]\n",
    "X_train_handwaving_v = data_handclapping.iloc[:,0]\n",
    "X_train_jogging_v = data_jogging.iloc[:,0]\n",
    "X_train_walking_v = data_walking.iloc[:,0]\n",
    "X_train_boxing_v = data_boxing.iloc[:,0]\n",
    "\n",
    "Y_train_running_v = data_running.iloc[:,1]\n",
    "Y_train_handclapping_v = data_handclapping.iloc[:,1]\n",
    "Y_train_handwaving_v = data_handclapping.iloc[:,1]\n",
    "Y_train_jogging_v = data_jogging.iloc[:,1]\n",
    "Y_train_walking_v = data_walking.iloc[:,1]\n",
    "Y_train_boxing_v = data_boxing.iloc[:,1]"
   ]
  },
  {
   "cell_type": "code",
   "execution_count": 20,
   "metadata": {},
   "outputs": [],
   "source": [
    "X_set = np.concatenate((X_train_running_v, X_train_handclapping_v, X_train_handwaving_v, X_train_jogging_v, X_train_walking_v, X_train_boxing_v), axis=0)\n",
    "Y_set = np.concatenate((Y_train_running_v, Y_train_handclapping_v, Y_train_handwaving_v, Y_train_jogging_v, Y_train_walking_v, Y_train_boxing_v), axis=0)"
   ]
  },
  {
   "cell_type": "code",
   "execution_count": 22,
   "metadata": {},
   "outputs": [
    {
     "data": {
      "text/plain": [
       "(19490,)"
      ]
     },
     "execution_count": 22,
     "metadata": {},
     "output_type": "execute_result"
    }
   ],
   "source": [
    "X_set.shape"
   ]
  },
  {
   "cell_type": "code",
   "execution_count": 21,
   "metadata": {},
   "outputs": [
    {
     "data": {
      "text/plain": [
       "<matplotlib.collections.PathCollection at 0x7ff920494048>"
      ]
     },
     "execution_count": 21,
     "metadata": {},
     "output_type": "execute_result"
    },
    {
     "data": {
      "image/png": "[encoded data removed]",
      "text/plain": [
       "<Figure size 432x288 with 1 Axes>"
      ]
     },
     "metadata": {
      "needs_background": "light"
     },
     "output_type": "display_data"
    }
   ],
   "source": [
    "plt.scatter(X_set, Y_set)"
   ]
  },
  {
   "cell_type": "code",
   "execution_count": 28,
   "metadata": {},
   "outputs": [],
   "source": [
    "prac = pd.read_csv('list_boxing_15_angles.csv')"
   ]
  },
  {
   "cell_type": "code",
   "execution_count": 49,
   "metadata": {},
   "outputs": [],
   "source": [
    "prac_fil = prac[prac['1'] > -0.000004]\n",
    "prac_fil = prac_fil[prac_fil['1'] < 2]"
   ]
  },
  {
   "cell_type": "code",
   "execution_count": 50,
   "metadata": {},
   "outputs": [],
   "source": [
    "X_train_boxing_v = prac_fil.iloc[:,0]\n",
    "Y_train_boxing_v = prac_fil.iloc[:,1]"
   ]
  },
  {
   "cell_type": "code",
   "execution_count": 51,
   "metadata": {},
   "outputs": [
    {
     "data": {
      "text/plain": [
       "<matplotlib.collections.PathCollection at 0x7ff920120940>"
      ]
     },
     "execution_count": 51,
     "metadata": {},
     "output_type": "execute_result"
    },
    {
     "data": {
      "image/png": "[encoded data removed]",
      "text/plain": [
       "<Figure size 432x288 with 1 Axes>"
      ]
     },
     "metadata": {
      "needs_background": "light"
     },
     "output_type": "display_data"
    }
   ],
   "source": [
    "plt.scatter(X_train_boxing_v, Y_train_boxing_v)"
   ]
  },
  {
   "cell_type": "code",
   "execution_count": 53,
   "metadata": {},
   "outputs": [],
   "source": [
    "prac = pd.read_csv('list_running_angles.csv')"
   ]
  },
  {
   "cell_type": "code",
   "execution_count": 60,
   "metadata": {},
   "outputs": [
    {
     "data": {
      "text/plain": [
       "<matplotlib.collections.PathCollection at 0x7ff920073320>"
      ]
     },
     "execution_count": 60,
     "metadata": {},
     "output_type": "execute_result"
    },
    {
     "data": {
      "image/png": "[encoded data removed]",
      "text/plain": [
       "<Figure size 432x288 with 1 Axes>"
      ]
     },
     "metadata": {
      "needs_background": "light"
     },
     "output_type": "display_data"
    }
   ],
   "source": [
    "prac_fil = prac[prac['14'] > -0.000004]\n",
    "prac_fil = prac_fil[prac_fil['14'] < 2]\n",
    "prac_fil = prac_fil[prac_fil['2'] < 2]\n",
    "prac_fil = prac_fil[prac_fil['2'] > -2]\n",
    "X_set = prac_fil.iloc[:,0]\n",
    "Y_set = prac_fil.iloc[:,1]\n",
    "plt.scatter(X_set, Y_set)"
   ]
  }
 ],
 "metadata": {
  "kernelspec": {
   "display_name": "Python 3",
   "language": "python",
   "name": "python3"
  },
  "language_info": {
   "codemirror_mode": {
    "name": "ipython",
    "version": 3
   },
   "file_extension": ".py",
   "mimetype": "text/x-python",
   "name": "python",
   "nbconvert_exporter": "python",
   "pygments_lexer": "ipython3",
   "version": "3.5.2"
  }
 },
 "nbformat": 4,
 "nbformat_minor": 2
}
